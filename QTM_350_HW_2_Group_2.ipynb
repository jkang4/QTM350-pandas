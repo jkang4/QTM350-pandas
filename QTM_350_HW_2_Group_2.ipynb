{
  "nbformat": 4,
  "nbformat_minor": 0,
  "metadata": {
    "colab": {
      "name": "QTM 350 HW 2 Group 2.ipynb",
      "provenance": [],
      "collapsed_sections": []
    },
    "kernelspec": {
      "name": "python3",
      "display_name": "Python 3"
    }
  },
  "cells": [
    {
      "cell_type": "markdown",
      "metadata": {
        "id": "NHDs3xhMrNRo",
        "colab_type": "text"
      },
      "source": [
        "#QTM 350 HW2: pandas Package\n",
        "Ash Addanki, Jessica Kang, Dillon Wu, Tony Yang"
      ]
    },
    {
      "cell_type": "markdown",
      "metadata": {
        "id": "_cscd07NcZKD",
        "colab_type": "text"
      },
      "source": [
        "![alt text](https://drive.google.com/uc?id=1BaBgT5w1dAvFd9ENaqrMqjgPa7so8TwD)\n"
      ]
    },
    {
      "cell_type": "markdown",
      "metadata": {
        "id": "3vdEG8a_xyWp",
        "colab_type": "text"
      },
      "source": [
        "pandas is a Python package for data manipulation and analysis. Data can be stored in 1-dimensional arrays called series or in 2-dimensional Dataframes for tabular data. It is similar to R's Tidyverse in function. Knowing how to use pandas is important to being a more well-rounded data scientist as it is applicable for all fields and concentrations. For our group, we have a diverse set of fields in economics, history, computer science, and english. "
      ]
    },
    {
      "cell_type": "code",
      "metadata": {
        "id": "mRl5HqqVxhJc",
        "colab_type": "code",
        "outputId": "7ed9594d-2db6-482b-9d11-089a503b041f",
        "colab": {
          "base_uri": "https://localhost:8080/",
          "height": 104
        }
      },
      "source": [
        "#Installing Pandas\n",
        "pip install Pandas"
      ],
      "execution_count": 0,
      "outputs": [
        {
          "output_type": "stream",
          "text": [
            "Requirement already satisfied: Pandas in /usr/local/lib/python3.6/dist-packages (1.0.3)\n",
            "Requirement already satisfied: numpy>=1.13.3 in /usr/local/lib/python3.6/dist-packages (from Pandas) (1.18.2)\n",
            "Requirement already satisfied: python-dateutil>=2.6.1 in /usr/local/lib/python3.6/dist-packages (from Pandas) (2.8.1)\n",
            "Requirement already satisfied: pytz>=2017.2 in /usr/local/lib/python3.6/dist-packages (from Pandas) (2018.9)\n",
            "Requirement already satisfied: six>=1.5 in /usr/local/lib/python3.6/dist-packages (from python-dateutil>=2.6.1->Pandas) (1.12.0)\n"
          ],
          "name": "stdout"
        }
      ]
    },
    {
      "cell_type": "code",
      "metadata": {
        "id": "mPlwO0m61IeH",
        "colab_type": "code",
        "colab": {}
      },
      "source": [
        "#import pandas package\n",
        "import pandas as pd\n"
      ],
      "execution_count": 0,
      "outputs": []
    },
    {
      "cell_type": "markdown",
      "metadata": {
        "id": "OYoI3trf9lNn",
        "colab_type": "text"
      },
      "source": [
        "###History\n",
        "Text analysis, or text mining, can be used in history to understand and sort long sequences of text or multiple works in cases where humans \n",
        "can't read such a large amount of information. Users can derive general trends of historical documents or the mood and tone of a certain author using text analysis. \n",
        "To show how pandas can be used in the process of analyzing historical documents, the Gettysburg Address will be used an example. \n",
        "\n",
        "The str.len() function counts the number of characters in a Series, which can be used to count the number of words in historical documents. \n"
      ]
    },
    {
      "cell_type": "code",
      "metadata": {
        "id": "b7k0ovyR-3uJ",
        "colab_type": "code",
        "outputId": "28529786-8810-48b6-da0f-46873eddae4e",
        "colab": {
          "base_uri": "https://localhost:8080/",
          "height": 87
        }
      },
      "source": [
        "#load Gettysburg Address and split it into its 3 paragraphs\n",
        "address = pd.Series(['Four score and seven years ago our fathers brought forth on this continent, a new nation, conceived in Liberty, and dedicated to the proposition that all men are created equal.','Now we are engaged in a great civil war, testing whether that nation, or any nation so conceived and so dedicated, can long endure. We are met on a great battle-field of that war. We have come to dedicate a portion of that field, as a final resting place for those who here gave their lives that that nation might live. It is altogether fitting and proper that we should do this.','But, in a larger sense, we can not dedicate—we can not consecrate—we can not hallow—this ground. The brave men, living and dead, who struggled here, have consecrated it, far above our poor power to add or detract. The world will little note, nor long remember what we say here, but it can never forget what they did here. It is for us the living, rather, to be dedicated here to the unfinished work which they who fought here have thus far so nobly advanced. It is rather for us to be here dedicated to the great task remaining before us—that from these honored dead we take increased devotion to that cause for which they gave the last full measure of devotion—that we here highly resolve that these dead shall not have died in vain—that this nation, under God, shall have a new birth of freedom—and that government of the people, by the people, for the people, shall not perish from the earth.' ])\n",
        "\n",
        "#turn all letters into lowercase to make all words the same case for comparison\n",
        "address_lower = address.str.lower()\n",
        "\n",
        "#compare lengths of each paragraph based on how many words there are\n",
        "address.str.len()"
      ],
      "execution_count": 0,
      "outputs": [
        {
          "output_type": "execute_result",
          "data": {
            "text/plain": [
              "0    176\n",
              "1    379\n",
              "2    895\n",
              "dtype: int64"
            ]
          },
          "metadata": {
            "tags": []
          },
          "execution_count": 26
        }
      ]
    },
    {
      "cell_type": "markdown",
      "metadata": {
        "id": "xb15g0_dJ9lF",
        "colab_type": "text"
      },
      "source": [
        "Let's say you want to find all instances where Lincoln directly talks about or references slavery. To compare, we can also find all instances where he mentions computers and instances of the Civil War. This lets us figure out what the document is about without having to read it. However, since the Gettysburg Addres is a very short speech, reading it personally would be more beneficial than using text analysis. "
      ]
    },
    {
      "cell_type": "code",
      "metadata": {
        "id": "Q-zgTPwGLvy6",
        "colab_type": "code",
        "outputId": "7a4b2a75-5b42-4cd9-919e-ea004982ed60",
        "colab": {
          "base_uri": "https://localhost:8080/",
          "height": 225
        }
      },
      "source": [
        "slavery_words = [\"slave\", \"slaves\", \"slavery\"]\n",
        "war_words = [\"war\", \"civil\", \"battle\", \"dead\", \"fight\"]\n",
        "computer_words = [\"computer\", \"laptop\", \"phone\"]\n",
        "\n",
        "slavery_count = address.str.count(\"slave\") + address.str.count(\"slaves\") + address.str.count(\"slavery\")\n",
        "war_count = address.str.count(\"war\") + address.str.count(\"civil\") + address.str.count(\"battle\") + address.str.count(\"dead\") + address.str.count(\"fight\") \n",
        "computer_count = address.str.count(\"computer\") + address.str.count(\"laptop\") + address.str.count(\"phone\")\n",
        "\n",
        "print(slavery_count)\n",
        "print(war_count)\n",
        "print(computer_count)\n"
      ],
      "execution_count": 0,
      "outputs": [
        {
          "output_type": "stream",
          "text": [
            "0    0\n",
            "1    0\n",
            "2    0\n",
            "dtype: int64\n",
            "0    0\n",
            "1    4\n",
            "2    3\n",
            "dtype: int64\n",
            "0    0\n",
            "1    0\n",
            "2    0\n",
            "dtype: int64\n"
          ],
          "name": "stdout"
        }
      ]
    },
    {
      "cell_type": "markdown",
      "metadata": {
        "id": "XOkqp01kYQ3W",
        "colab_type": "text"
      },
      "source": [
        "The Gettysburg returns 0 words in all 3 paragraphs about slavery and computers while it returns 7 words total with words related to war. This suggests that Lincoln's speech was neither about slavery nor computers, but was about war instead. This kind of analysis is very dangerous without the relevant background knowledge on historical events because the civil war was very much about slavery. However, knowing the context of the document is even more important to not misinterpet the results. There are more complicated methods for text analysis, such as sentiment analysis, or tf-idf, but the pandas package is not suited for that. "
      ]
    },
    {
      "cell_type": "markdown",
      "metadata": {
        "id": "AZvwDihUywmt",
        "colab_type": "text"
      },
      "source": [
        "# English\n"
      ]
    },
    {
      "cell_type": "markdown",
      "metadata": {
        "id": "aXA1SX0bzH76",
        "colab_type": "text"
      },
      "source": [
        "The pandas package is known to be great for text analysis and manipulation. One important format of data in Pandas is the Series, which is essentially a column of data. The data can be integers, objects, string, or anything. There are some particularly fundamental functions that come in handy when working with text. Here, we can explore some. "
      ]
    },
    {
      "cell_type": "code",
      "metadata": {
        "id": "Qs-XRWgLJR8g",
        "colab_type": "code",
        "colab": {}
      },
      "source": [
        "# import pandas \n",
        "import pandas as pd "
      ],
      "execution_count": 0,
      "outputs": []
    },
    {
      "cell_type": "markdown",
      "metadata": {
        "id": "d4zKn9a6RzZX",
        "colab_type": "text"
      },
      "source": [
        "The series.get() function retrieves the object of a given index value. This can be useful in many different ways. A way it can be used in text analysis is through identifying synonyms. "
      ]
    },
    {
      "cell_type": "code",
      "metadata": {
        "id": "0T5zxnDYNsTM",
        "colab_type": "code",
        "colab": {}
      },
      "source": [
        "# construct an index and series for demonstration \n",
        "original= pd.Series(['understand', 'listen', 'good','reason', 'pretty'])\n",
        "synonym= pd.Series(['comprehend','hear', 'fine','cause', 'beautiful'])"
      ],
      "execution_count": 0,
      "outputs": []
    },
    {
      "cell_type": "code",
      "metadata": {
        "id": "g2fDdDkQOY0T",
        "colab_type": "code",
        "colab": {}
      },
      "source": [
        "# identify the index \n",
        "synonym.index=original"
      ],
      "execution_count": 0,
      "outputs": []
    },
    {
      "cell_type": "code",
      "metadata": {
        "id": "PIlJl4pKPk-5",
        "colab_type": "code",
        "outputId": "062ab4f4-b626-49f5-9199-8d720fbab64e",
        "colab": {
          "base_uri": "https://localhost:8080/",
          "height": 119
        }
      },
      "source": [
        "# view the series \n",
        "print(synonym)"
      ],
      "execution_count": 0,
      "outputs": [
        {
          "output_type": "stream",
          "text": [
            "understand    comprehend\n",
            "listen              hear\n",
            "good                fine\n",
            "reason             cause\n",
            "pretty         beautiful\n",
            "dtype: object\n"
          ],
          "name": "stdout"
        }
      ]
    },
    {
      "cell_type": "code",
      "metadata": {
        "id": "2Wru84qPPomC",
        "colab_type": "code",
        "outputId": "9432c71e-3301-410b-ac50-47647a0c72b2",
        "colab": {
          "base_uri": "https://localhost:8080/",
          "height": 34
        }
      },
      "source": [
        "# use the series.get function to call the object for a given index value \n",
        "result=synonym.get(key = 'reason')\n",
        "print(result)"
      ],
      "execution_count": 0,
      "outputs": [
        {
          "output_type": "stream",
          "text": [
            "cause\n"
          ],
          "name": "stdout"
        }
      ]
    },
    {
      "cell_type": "markdown",
      "metadata": {
        "id": "Rumf_pYBTqQZ",
        "colab_type": "text"
      },
      "source": [
        "The series.where() function replaces the object of a given index value if a condition needs to be met. If we continue with the series of synonyms, we can see more manipulation of text. "
      ]
    },
    {
      "cell_type": "code",
      "metadata": {
        "id": "nKlN98mWTxwX",
        "colab_type": "code",
        "colab": {}
      },
      "source": [
        "# construct another index and series for demonstration \n",
        "original_2= pd.Series(['understand', 'listen', 'good','reason', 'pretty'])\n",
        "synonym_2= pd.Series(['grasp','hear', 'fine','cause', 'lovely'])"
      ],
      "execution_count": 0,
      "outputs": []
    },
    {
      "cell_type": "code",
      "metadata": {
        "id": "YMxSG6QEUkoY",
        "colab_type": "code",
        "colab": {}
      },
      "source": [
        "# identify the index \n",
        "synonym_2.index=original_2"
      ],
      "execution_count": 0,
      "outputs": []
    },
    {
      "cell_type": "code",
      "metadata": {
        "id": "_FUlJwrNUdpc",
        "colab_type": "code",
        "outputId": "c9c9fcc4-3ccd-4e43-9bac-86145f82d8dd",
        "colab": {
          "base_uri": "https://localhost:8080/",
          "height": 119
        }
      },
      "source": [
        "# view the series \n",
        "print(synonym_2)"
      ],
      "execution_count": 0,
      "outputs": [
        {
          "output_type": "stream",
          "text": [
            "understand     grasp\n",
            "listen          hear\n",
            "good            fine\n",
            "reason         cause\n",
            "pretty        lovely\n",
            "dtype: object\n"
          ],
          "name": "stdout"
        }
      ]
    },
    {
      "cell_type": "code",
      "metadata": {
        "id": "Ud2gGmllUpJ7",
        "colab_type": "code",
        "outputId": "c3ca6978-9fb0-42a2-8ed5-77faf9c66525",
        "colab": {
          "base_uri": "https://localhost:8080/",
          "height": 119
        }
      },
      "source": [
        "# use the series.where function to replace the values\n",
        "synonym.where(synonym == 'lovely', synonym_2)"
      ],
      "execution_count": 0,
      "outputs": [
        {
          "output_type": "execute_result",
          "data": {
            "text/plain": [
              "understand     grasp\n",
              "listen          hear\n",
              "good            fine\n",
              "reason         cause\n",
              "pretty        lovely\n",
              "dtype: object"
            ]
          },
          "metadata": {
            "tags": []
          },
          "execution_count": 75
        }
      ]
    },
    {
      "cell_type": "markdown",
      "metadata": {
        "id": "QkZJOoN_XBhy",
        "colab_type": "text"
      },
      "source": [
        "## Economics"
      ]
    },
    {
      "cell_type": "markdown",
      "metadata": {
        "id": "DjRV3HunXGR0",
        "colab_type": "text"
      },
      "source": [
        "Pandas is great for working with large datasets. We can see how pandas can be used with an example dataset from Kaggle of video game sales. Let's say we're interested in comparing total sales revenue in North America and Europe for games released in 2015 to the sales revenue from games released in the earliest year in the dataset."
      ]
    },
    {
      "cell_type": "code",
      "metadata": {
        "id": "Nfe0HhZTXBPl",
        "colab_type": "code",
        "colab": {}
      },
      "source": [
        "# import pandas\n",
        "import pandas as pd"
      ],
      "execution_count": 0,
      "outputs": []
    },
    {
      "cell_type": "code",
      "metadata": {
        "id": "LhhvWujbXQC9",
        "colab_type": "code",
        "colab": {}
      },
      "source": [
        "# read and assign the dataset as vidgames\n",
        "vidgames = pd.read_csv('https://raw.githubusercontent.com/jkang4/QTM350-pandas/master/vgsales.csv')"
      ],
      "execution_count": 0,
      "outputs": []
    },
    {
      "cell_type": "code",
      "metadata": {
        "id": "JxnJDzakXQtO",
        "colab_type": "code",
        "outputId": "0f8bd410-04c5-4d9e-f6bc-d0fa8dd3d56c",
        "colab": {
          "base_uri": "https://localhost:8080/",
          "height": 204
        }
      },
      "source": [
        "vidgames.head()"
      ],
      "execution_count": 0,
      "outputs": [
        {
          "output_type": "execute_result",
          "data": {
            "text/html": [
              "<div>\n",
              "<style scoped>\n",
              "    .dataframe tbody tr th:only-of-type {\n",
              "        vertical-align: middle;\n",
              "    }\n",
              "\n",
              "    .dataframe tbody tr th {\n",
              "        vertical-align: top;\n",
              "    }\n",
              "\n",
              "    .dataframe thead th {\n",
              "        text-align: right;\n",
              "    }\n",
              "</style>\n",
              "<table border=\"1\" class=\"dataframe\">\n",
              "  <thead>\n",
              "    <tr style=\"text-align: right;\">\n",
              "      <th></th>\n",
              "      <th>Rank</th>\n",
              "      <th>Name</th>\n",
              "      <th>Platform</th>\n",
              "      <th>Year</th>\n",
              "      <th>Genre</th>\n",
              "      <th>Publisher</th>\n",
              "      <th>NA_Sales</th>\n",
              "      <th>EU_Sales</th>\n",
              "      <th>JP_Sales</th>\n",
              "      <th>Other_Sales</th>\n",
              "      <th>Global_Sales</th>\n",
              "    </tr>\n",
              "  </thead>\n",
              "  <tbody>\n",
              "    <tr>\n",
              "      <th>0</th>\n",
              "      <td>1</td>\n",
              "      <td>Wii Sports</td>\n",
              "      <td>Wii</td>\n",
              "      <td>2006.0</td>\n",
              "      <td>Sports</td>\n",
              "      <td>Nintendo</td>\n",
              "      <td>41.49</td>\n",
              "      <td>29.02</td>\n",
              "      <td>3.77</td>\n",
              "      <td>8.46</td>\n",
              "      <td>82.74</td>\n",
              "    </tr>\n",
              "    <tr>\n",
              "      <th>1</th>\n",
              "      <td>2</td>\n",
              "      <td>Super Mario Bros.</td>\n",
              "      <td>NES</td>\n",
              "      <td>1985.0</td>\n",
              "      <td>Platform</td>\n",
              "      <td>Nintendo</td>\n",
              "      <td>29.08</td>\n",
              "      <td>3.58</td>\n",
              "      <td>6.81</td>\n",
              "      <td>0.77</td>\n",
              "      <td>40.24</td>\n",
              "    </tr>\n",
              "    <tr>\n",
              "      <th>2</th>\n",
              "      <td>3</td>\n",
              "      <td>Mario Kart Wii</td>\n",
              "      <td>Wii</td>\n",
              "      <td>2008.0</td>\n",
              "      <td>Racing</td>\n",
              "      <td>Nintendo</td>\n",
              "      <td>15.85</td>\n",
              "      <td>12.88</td>\n",
              "      <td>3.79</td>\n",
              "      <td>3.31</td>\n",
              "      <td>35.82</td>\n",
              "    </tr>\n",
              "    <tr>\n",
              "      <th>3</th>\n",
              "      <td>4</td>\n",
              "      <td>Wii Sports Resort</td>\n",
              "      <td>Wii</td>\n",
              "      <td>2009.0</td>\n",
              "      <td>Sports</td>\n",
              "      <td>Nintendo</td>\n",
              "      <td>15.75</td>\n",
              "      <td>11.01</td>\n",
              "      <td>3.28</td>\n",
              "      <td>2.96</td>\n",
              "      <td>33.00</td>\n",
              "    </tr>\n",
              "    <tr>\n",
              "      <th>4</th>\n",
              "      <td>5</td>\n",
              "      <td>Pokemon Red/Pokemon Blue</td>\n",
              "      <td>GB</td>\n",
              "      <td>1996.0</td>\n",
              "      <td>Role-Playing</td>\n",
              "      <td>Nintendo</td>\n",
              "      <td>11.27</td>\n",
              "      <td>8.89</td>\n",
              "      <td>10.22</td>\n",
              "      <td>1.00</td>\n",
              "      <td>31.37</td>\n",
              "    </tr>\n",
              "  </tbody>\n",
              "</table>\n",
              "</div>"
            ],
            "text/plain": [
              "   Rank                      Name Platform  ...  JP_Sales Other_Sales Global_Sales\n",
              "0     1                Wii Sports      Wii  ...      3.77        8.46        82.74\n",
              "1     2         Super Mario Bros.      NES  ...      6.81        0.77        40.24\n",
              "2     3            Mario Kart Wii      Wii  ...      3.79        3.31        35.82\n",
              "3     4         Wii Sports Resort      Wii  ...      3.28        2.96        33.00\n",
              "4     5  Pokemon Red/Pokemon Blue       GB  ...     10.22        1.00        31.37\n",
              "\n",
              "[5 rows x 11 columns]"
            ]
          },
          "metadata": {
            "tags": []
          },
          "execution_count": 67
        }
      ]
    },
    {
      "cell_type": "markdown",
      "metadata": {
        "id": "0NEgOn7fXWHQ",
        "colab_type": "text"
      },
      "source": [
        "We can use `df.describe()` to see summary statistics for all the numerical columns so we have an idea of the distribution of each variable before we even start. We also use `df.min()` to find the earliest year that is included. "
      ]
    },
    {
      "cell_type": "code",
      "metadata": {
        "id": "vuuWRMjsXX7I",
        "colab_type": "code",
        "outputId": "bdd9e78a-06c4-491b-8c0d-c414dc435a97",
        "colab": {
          "base_uri": "https://localhost:8080/",
          "height": 297
        }
      },
      "source": [
        "vidgames.describe()"
      ],
      "execution_count": 0,
      "outputs": [
        {
          "output_type": "execute_result",
          "data": {
            "text/html": [
              "<div>\n",
              "<style scoped>\n",
              "    .dataframe tbody tr th:only-of-type {\n",
              "        vertical-align: middle;\n",
              "    }\n",
              "\n",
              "    .dataframe tbody tr th {\n",
              "        vertical-align: top;\n",
              "    }\n",
              "\n",
              "    .dataframe thead th {\n",
              "        text-align: right;\n",
              "    }\n",
              "</style>\n",
              "<table border=\"1\" class=\"dataframe\">\n",
              "  <thead>\n",
              "    <tr style=\"text-align: right;\">\n",
              "      <th></th>\n",
              "      <th>Rank</th>\n",
              "      <th>Year</th>\n",
              "      <th>NA_Sales</th>\n",
              "      <th>EU_Sales</th>\n",
              "      <th>JP_Sales</th>\n",
              "      <th>Other_Sales</th>\n",
              "      <th>Global_Sales</th>\n",
              "    </tr>\n",
              "  </thead>\n",
              "  <tbody>\n",
              "    <tr>\n",
              "      <th>count</th>\n",
              "      <td>16598.000000</td>\n",
              "      <td>16327.000000</td>\n",
              "      <td>16598.000000</td>\n",
              "      <td>16598.000000</td>\n",
              "      <td>16598.000000</td>\n",
              "      <td>16598.000000</td>\n",
              "      <td>16598.000000</td>\n",
              "    </tr>\n",
              "    <tr>\n",
              "      <th>mean</th>\n",
              "      <td>8300.605254</td>\n",
              "      <td>2006.406443</td>\n",
              "      <td>0.264667</td>\n",
              "      <td>0.146652</td>\n",
              "      <td>0.077782</td>\n",
              "      <td>0.048063</td>\n",
              "      <td>0.537441</td>\n",
              "    </tr>\n",
              "    <tr>\n",
              "      <th>std</th>\n",
              "      <td>4791.853933</td>\n",
              "      <td>5.828981</td>\n",
              "      <td>0.816683</td>\n",
              "      <td>0.505351</td>\n",
              "      <td>0.309291</td>\n",
              "      <td>0.188588</td>\n",
              "      <td>1.555028</td>\n",
              "    </tr>\n",
              "    <tr>\n",
              "      <th>min</th>\n",
              "      <td>1.000000</td>\n",
              "      <td>1980.000000</td>\n",
              "      <td>0.000000</td>\n",
              "      <td>0.000000</td>\n",
              "      <td>0.000000</td>\n",
              "      <td>0.000000</td>\n",
              "      <td>0.010000</td>\n",
              "    </tr>\n",
              "    <tr>\n",
              "      <th>25%</th>\n",
              "      <td>4151.250000</td>\n",
              "      <td>2003.000000</td>\n",
              "      <td>0.000000</td>\n",
              "      <td>0.000000</td>\n",
              "      <td>0.000000</td>\n",
              "      <td>0.000000</td>\n",
              "      <td>0.060000</td>\n",
              "    </tr>\n",
              "    <tr>\n",
              "      <th>50%</th>\n",
              "      <td>8300.500000</td>\n",
              "      <td>2007.000000</td>\n",
              "      <td>0.080000</td>\n",
              "      <td>0.020000</td>\n",
              "      <td>0.000000</td>\n",
              "      <td>0.010000</td>\n",
              "      <td>0.170000</td>\n",
              "    </tr>\n",
              "    <tr>\n",
              "      <th>75%</th>\n",
              "      <td>12449.750000</td>\n",
              "      <td>2010.000000</td>\n",
              "      <td>0.240000</td>\n",
              "      <td>0.110000</td>\n",
              "      <td>0.040000</td>\n",
              "      <td>0.040000</td>\n",
              "      <td>0.470000</td>\n",
              "    </tr>\n",
              "    <tr>\n",
              "      <th>max</th>\n",
              "      <td>16600.000000</td>\n",
              "      <td>2020.000000</td>\n",
              "      <td>41.490000</td>\n",
              "      <td>29.020000</td>\n",
              "      <td>10.220000</td>\n",
              "      <td>10.570000</td>\n",
              "      <td>82.740000</td>\n",
              "    </tr>\n",
              "  </tbody>\n",
              "</table>\n",
              "</div>"
            ],
            "text/plain": [
              "               Rank          Year  ...   Other_Sales  Global_Sales\n",
              "count  16598.000000  16327.000000  ...  16598.000000  16598.000000\n",
              "mean    8300.605254   2006.406443  ...      0.048063      0.537441\n",
              "std     4791.853933      5.828981  ...      0.188588      1.555028\n",
              "min        1.000000   1980.000000  ...      0.000000      0.010000\n",
              "25%     4151.250000   2003.000000  ...      0.000000      0.060000\n",
              "50%     8300.500000   2007.000000  ...      0.010000      0.170000\n",
              "75%    12449.750000   2010.000000  ...      0.040000      0.470000\n",
              "max    16600.000000   2020.000000  ...     10.570000     82.740000\n",
              "\n",
              "[8 rows x 7 columns]"
            ]
          },
          "metadata": {
            "tags": []
          },
          "execution_count": 68
        }
      ]
    },
    {
      "cell_type": "code",
      "metadata": {
        "id": "2MHMINPwbkdV",
        "colab_type": "code",
        "outputId": "54f36381-6042-47e9-b9e0-8783863b14f5",
        "colab": {
          "base_uri": "https://localhost:8080/",
          "height": 34
        }
      },
      "source": [
        "vidgames[\"Year\"].min() # earliest year is 1980"
      ],
      "execution_count": 0,
      "outputs": [
        {
          "output_type": "execute_result",
          "data": {
            "text/plain": [
              "1980.0"
            ]
          },
          "metadata": {
            "tags": []
          },
          "execution_count": 70
        }
      ]
    },
    {
      "cell_type": "markdown",
      "metadata": {
        "id": "3PfZ5f04Z0fr",
        "colab_type": "text"
      },
      "source": [
        "In this dataset, we have separate columns for sales in North America and Europe, so we want to make a new column that sums NA_Sales and EU_Sales. We specify columns with df['col_name'] so we select those two and name our new column."
      ]
    },
    {
      "cell_type": "code",
      "metadata": {
        "id": "p_7Pb3snZ3iV",
        "colab_type": "code",
        "outputId": "826725d3-bc17-472d-a5c3-2b4f02f50462",
        "colab": {
          "base_uri": "https://localhost:8080/",
          "height": 204
        }
      },
      "source": [
        "vidgames[\"NA_EU_Sales\"] = vidgames[\"NA_Sales\"] + vidgames[\"EU_Sales\"]\n",
        "vidgames.head()"
      ],
      "execution_count": 0,
      "outputs": [
        {
          "output_type": "execute_result",
          "data": {
            "text/html": [
              "<div>\n",
              "<style scoped>\n",
              "    .dataframe tbody tr th:only-of-type {\n",
              "        vertical-align: middle;\n",
              "    }\n",
              "\n",
              "    .dataframe tbody tr th {\n",
              "        vertical-align: top;\n",
              "    }\n",
              "\n",
              "    .dataframe thead th {\n",
              "        text-align: right;\n",
              "    }\n",
              "</style>\n",
              "<table border=\"1\" class=\"dataframe\">\n",
              "  <thead>\n",
              "    <tr style=\"text-align: right;\">\n",
              "      <th></th>\n",
              "      <th>Rank</th>\n",
              "      <th>Name</th>\n",
              "      <th>Platform</th>\n",
              "      <th>Year</th>\n",
              "      <th>Genre</th>\n",
              "      <th>Publisher</th>\n",
              "      <th>NA_Sales</th>\n",
              "      <th>EU_Sales</th>\n",
              "      <th>JP_Sales</th>\n",
              "      <th>Other_Sales</th>\n",
              "      <th>Global_Sales</th>\n",
              "      <th>NA_EU_Sales</th>\n",
              "    </tr>\n",
              "  </thead>\n",
              "  <tbody>\n",
              "    <tr>\n",
              "      <th>0</th>\n",
              "      <td>1</td>\n",
              "      <td>Wii Sports</td>\n",
              "      <td>Wii</td>\n",
              "      <td>2006.0</td>\n",
              "      <td>Sports</td>\n",
              "      <td>Nintendo</td>\n",
              "      <td>41.49</td>\n",
              "      <td>29.02</td>\n",
              "      <td>3.77</td>\n",
              "      <td>8.46</td>\n",
              "      <td>82.74</td>\n",
              "      <td>70.51</td>\n",
              "    </tr>\n",
              "    <tr>\n",
              "      <th>1</th>\n",
              "      <td>2</td>\n",
              "      <td>Super Mario Bros.</td>\n",
              "      <td>NES</td>\n",
              "      <td>1985.0</td>\n",
              "      <td>Platform</td>\n",
              "      <td>Nintendo</td>\n",
              "      <td>29.08</td>\n",
              "      <td>3.58</td>\n",
              "      <td>6.81</td>\n",
              "      <td>0.77</td>\n",
              "      <td>40.24</td>\n",
              "      <td>32.66</td>\n",
              "    </tr>\n",
              "    <tr>\n",
              "      <th>2</th>\n",
              "      <td>3</td>\n",
              "      <td>Mario Kart Wii</td>\n",
              "      <td>Wii</td>\n",
              "      <td>2008.0</td>\n",
              "      <td>Racing</td>\n",
              "      <td>Nintendo</td>\n",
              "      <td>15.85</td>\n",
              "      <td>12.88</td>\n",
              "      <td>3.79</td>\n",
              "      <td>3.31</td>\n",
              "      <td>35.82</td>\n",
              "      <td>28.73</td>\n",
              "    </tr>\n",
              "    <tr>\n",
              "      <th>3</th>\n",
              "      <td>4</td>\n",
              "      <td>Wii Sports Resort</td>\n",
              "      <td>Wii</td>\n",
              "      <td>2009.0</td>\n",
              "      <td>Sports</td>\n",
              "      <td>Nintendo</td>\n",
              "      <td>15.75</td>\n",
              "      <td>11.01</td>\n",
              "      <td>3.28</td>\n",
              "      <td>2.96</td>\n",
              "      <td>33.00</td>\n",
              "      <td>26.76</td>\n",
              "    </tr>\n",
              "    <tr>\n",
              "      <th>4</th>\n",
              "      <td>5</td>\n",
              "      <td>Pokemon Red/Pokemon Blue</td>\n",
              "      <td>GB</td>\n",
              "      <td>1996.0</td>\n",
              "      <td>Role-Playing</td>\n",
              "      <td>Nintendo</td>\n",
              "      <td>11.27</td>\n",
              "      <td>8.89</td>\n",
              "      <td>10.22</td>\n",
              "      <td>1.00</td>\n",
              "      <td>31.37</td>\n",
              "      <td>20.16</td>\n",
              "    </tr>\n",
              "  </tbody>\n",
              "</table>\n",
              "</div>"
            ],
            "text/plain": [
              "   Rank                      Name  ... Global_Sales  NA_EU_Sales\n",
              "0     1                Wii Sports  ...        82.74        70.51\n",
              "1     2         Super Mario Bros.  ...        40.24        32.66\n",
              "2     3            Mario Kart Wii  ...        35.82        28.73\n",
              "3     4         Wii Sports Resort  ...        33.00        26.76\n",
              "4     5  Pokemon Red/Pokemon Blue  ...        31.37        20.16\n",
              "\n",
              "[5 rows x 12 columns]"
            ]
          },
          "metadata": {
            "tags": []
          },
          "execution_count": 71
        }
      ]
    },
    {
      "cell_type": "markdown",
      "metadata": {
        "id": "U2DYeXUbaJp-",
        "colab_type": "text"
      },
      "source": [
        "Now let's only focus on the games from 1980 and 2015 by first creating a new dataframe with only the Year and NA_EU_Sales columns and then only including rows from those two years. "
      ]
    },
    {
      "cell_type": "code",
      "metadata": {
        "id": "xV4DTdq1cZR5",
        "colab_type": "code",
        "outputId": "0c941cfe-1390-487e-f668-72a3be5c3c1c",
        "colab": {
          "base_uri": "https://localhost:8080/",
          "height": 204
        }
      },
      "source": [
        "# Create new dataframe with Year and NA_EA_Sales\n",
        "vg2 = vidgames.filter(items=['Year', 'NA_EU_Sales'])\n",
        "vg2.head()\n"
      ],
      "execution_count": 0,
      "outputs": [
        {
          "output_type": "execute_result",
          "data": {
            "text/html": [
              "<div>\n",
              "<style scoped>\n",
              "    .dataframe tbody tr th:only-of-type {\n",
              "        vertical-align: middle;\n",
              "    }\n",
              "\n",
              "    .dataframe tbody tr th {\n",
              "        vertical-align: top;\n",
              "    }\n",
              "\n",
              "    .dataframe thead th {\n",
              "        text-align: right;\n",
              "    }\n",
              "</style>\n",
              "<table border=\"1\" class=\"dataframe\">\n",
              "  <thead>\n",
              "    <tr style=\"text-align: right;\">\n",
              "      <th></th>\n",
              "      <th>Year</th>\n",
              "      <th>NA_EU_Sales</th>\n",
              "    </tr>\n",
              "  </thead>\n",
              "  <tbody>\n",
              "    <tr>\n",
              "      <th>0</th>\n",
              "      <td>2006.0</td>\n",
              "      <td>70.51</td>\n",
              "    </tr>\n",
              "    <tr>\n",
              "      <th>1</th>\n",
              "      <td>1985.0</td>\n",
              "      <td>32.66</td>\n",
              "    </tr>\n",
              "    <tr>\n",
              "      <th>2</th>\n",
              "      <td>2008.0</td>\n",
              "      <td>28.73</td>\n",
              "    </tr>\n",
              "    <tr>\n",
              "      <th>3</th>\n",
              "      <td>2009.0</td>\n",
              "      <td>26.76</td>\n",
              "    </tr>\n",
              "    <tr>\n",
              "      <th>4</th>\n",
              "      <td>1996.0</td>\n",
              "      <td>20.16</td>\n",
              "    </tr>\n",
              "  </tbody>\n",
              "</table>\n",
              "</div>"
            ],
            "text/plain": [
              "     Year  NA_EU_Sales\n",
              "0  2006.0        70.51\n",
              "1  1985.0        32.66\n",
              "2  2008.0        28.73\n",
              "3  2009.0        26.76\n",
              "4  1996.0        20.16"
            ]
          },
          "metadata": {
            "tags": []
          },
          "execution_count": 72
        }
      ]
    },
    {
      "cell_type": "code",
      "metadata": {
        "id": "t9Wo6dWUdVUP",
        "colab_type": "code",
        "outputId": "c1bd3ef8-c811-4585-b413-d352fa9cec5b",
        "colab": {
          "base_uri": "https://localhost:8080/",
          "height": 419
        }
      },
      "source": [
        "# Select rows from 1980 or 2015\n",
        "vidgamesrev = vg2.loc[(vg2['Year'] == 1980) | (vg2['Year'] == 2015)]\n",
        "vidgamesrev"
      ],
      "execution_count": 0,
      "outputs": [
        {
          "output_type": "execute_result",
          "data": {
            "text/html": [
              "<div>\n",
              "<style scoped>\n",
              "    .dataframe tbody tr th:only-of-type {\n",
              "        vertical-align: middle;\n",
              "    }\n",
              "\n",
              "    .dataframe tbody tr th {\n",
              "        vertical-align: top;\n",
              "    }\n",
              "\n",
              "    .dataframe thead th {\n",
              "        text-align: right;\n",
              "    }\n",
              "</style>\n",
              "<table border=\"1\" class=\"dataframe\">\n",
              "  <thead>\n",
              "    <tr style=\"text-align: right;\">\n",
              "      <th></th>\n",
              "      <th>Year</th>\n",
              "      <th>NA_EU_Sales</th>\n",
              "    </tr>\n",
              "  </thead>\n",
              "  <tbody>\n",
              "    <tr>\n",
              "      <th>33</th>\n",
              "      <td>2015.0</td>\n",
              "      <td>11.58</td>\n",
              "    </tr>\n",
              "    <tr>\n",
              "      <th>77</th>\n",
              "      <td>2015.0</td>\n",
              "      <td>7.17</td>\n",
              "    </tr>\n",
              "    <tr>\n",
              "      <th>92</th>\n",
              "      <td>2015.0</td>\n",
              "      <td>6.22</td>\n",
              "    </tr>\n",
              "    <tr>\n",
              "      <th>101</th>\n",
              "      <td>2015.0</td>\n",
              "      <td>6.61</td>\n",
              "    </tr>\n",
              "    <tr>\n",
              "      <th>109</th>\n",
              "      <td>2015.0</td>\n",
              "      <td>5.62</td>\n",
              "    </tr>\n",
              "    <tr>\n",
              "      <th>...</th>\n",
              "      <td>...</td>\n",
              "      <td>...</td>\n",
              "    </tr>\n",
              "    <tr>\n",
              "      <th>16499</th>\n",
              "      <td>2015.0</td>\n",
              "      <td>0.00</td>\n",
              "    </tr>\n",
              "    <tr>\n",
              "      <th>16528</th>\n",
              "      <td>2015.0</td>\n",
              "      <td>0.00</td>\n",
              "    </tr>\n",
              "    <tr>\n",
              "      <th>16542</th>\n",
              "      <td>2015.0</td>\n",
              "      <td>0.00</td>\n",
              "    </tr>\n",
              "    <tr>\n",
              "      <th>16548</th>\n",
              "      <td>2015.0</td>\n",
              "      <td>0.00</td>\n",
              "    </tr>\n",
              "    <tr>\n",
              "      <th>16565</th>\n",
              "      <td>2015.0</td>\n",
              "      <td>0.01</td>\n",
              "    </tr>\n",
              "  </tbody>\n",
              "</table>\n",
              "<p>623 rows × 2 columns</p>\n",
              "</div>"
            ],
            "text/plain": [
              "         Year  NA_EU_Sales\n",
              "33     2015.0        11.58\n",
              "77     2015.0         7.17\n",
              "92     2015.0         6.22\n",
              "101    2015.0         6.61\n",
              "109    2015.0         5.62\n",
              "...       ...          ...\n",
              "16499  2015.0         0.00\n",
              "16528  2015.0         0.00\n",
              "16542  2015.0         0.00\n",
              "16548  2015.0         0.00\n",
              "16565  2015.0         0.01\n",
              "\n",
              "[623 rows x 2 columns]"
            ]
          },
          "metadata": {
            "tags": []
          },
          "execution_count": 84
        }
      ]
    },
    {
      "cell_type": "markdown",
      "metadata": {
        "id": "xyBNE7gzfVjT",
        "colab_type": "text"
      },
      "source": [
        "We add all of the sales for each year.  "
      ]
    },
    {
      "cell_type": "code",
      "metadata": {
        "id": "MV2Iyubte7OI",
        "colab_type": "code",
        "outputId": "896fafbd-f6e9-46cf-c717-a4c1312ce95a",
        "colab": {
          "base_uri": "https://localhost:8080/",
          "height": 68
        }
      },
      "source": [
        "vidgamesrev.loc[vidgamesrev['Year'] == 1980].sum(axis=0)\n"
      ],
      "execution_count": 0,
      "outputs": [
        {
          "output_type": "execute_result",
          "data": {
            "text/plain": [
              "Year           17820.00\n",
              "NA_EU_Sales       11.26\n",
              "dtype: float64"
            ]
          },
          "metadata": {
            "tags": []
          },
          "execution_count": 82
        }
      ]
    },
    {
      "cell_type": "code",
      "metadata": {
        "id": "BCUMVMQGieEr",
        "colab_type": "code",
        "outputId": "22cc508b-9ee9-425a-e0df-01855a63f2f7",
        "colab": {
          "base_uri": "https://localhost:8080/",
          "height": 68
        }
      },
      "source": [
        "vidgamesrev.loc[vidgamesrev['Year'] == 2015].sum(axis=0)"
      ],
      "execution_count": 0,
      "outputs": [
        {
          "output_type": "execute_result",
          "data": {
            "text/plain": [
              "Year           1237210.00\n",
              "NA_EU_Sales        200.53\n",
              "dtype: float64"
            ]
          },
          "metadata": {
            "tags": []
          },
          "execution_count": 85
        }
      ]
    },
    {
      "cell_type": "markdown",
      "metadata": {
        "id": "oiV3Eyj7iTLD",
        "colab_type": "text"
      },
      "source": [
        "Now we can see that the total North American + European sales for 1980 video games is 11.26 million, while 2015 video games brought in almost 20 times that amount with 200.53 million."
      ]
    }
  ]
}