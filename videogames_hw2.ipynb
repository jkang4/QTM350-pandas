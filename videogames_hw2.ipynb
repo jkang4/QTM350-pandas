{
  "nbformat": 4,
  "nbformat_minor": 0,
  "metadata": {
    "colab": {
      "name": "videogames_hw2.ipynb",
      "provenance": []
    },
    "kernelspec": {
      "name": "python3",
      "display_name": "Python 3"
    }
  },
  "cells": [
    {
      "cell_type": "code",
      "metadata": {
        "id": "9Yn8c4lnkcJD",
        "colab_type": "code",
        "colab": {}
      },
      "source": [
        "import pandas as pd"
      ],
      "execution_count": 0,
      "outputs": []
    },
    {
      "cell_type": "code",
      "metadata": {
        "id": "jMCP_f4DkenW",
        "colab_type": "code",
        "colab": {}
      },
      "source": [
        "vidgames = pd.read_csv('https://raw.githubusercontent.com/jkang4/QTM350-pandas/master/vgsales.csv')"
      ],
      "execution_count": 0,
      "outputs": []
    },
    {
      "cell_type": "code",
      "metadata": {
        "id": "I1qE8fQvkgFo",
        "colab_type": "code",
        "colab": {}
      },
      "source": [
        "vidgames.head()"
      ],
      "execution_count": 0,
      "outputs": []
    },
    {
      "cell_type": "code",
      "metadata": {
        "id": "PoaqBYdNkgJv",
        "colab_type": "code",
        "colab": {}
      },
      "source": [
        "vidgames.describe()"
      ],
      "execution_count": 0,
      "outputs": []
    },
    {
      "cell_type": "code",
      "metadata": {
        "id": "KPIVjDvckgMH",
        "colab_type": "code",
        "colab": {}
      },
      "source": [
        "vidgames[\"Year\"].min() # earliest year is 1980"
      ],
      "execution_count": 0,
      "outputs": []
    },
    {
      "cell_type": "code",
      "metadata": {
        "id": "tDxTyWTykgQA",
        "colab_type": "code",
        "colab": {}
      },
      "source": [
        "vidgames[\"NA_EU_Sales\"] = vidgames[\"NA_Sales\"] + vidgames[\"EU_Sales\"]\n",
        "vidgames.head()"
      ],
      "execution_count": 0,
      "outputs": []
    },
    {
      "cell_type": "code",
      "metadata": {
        "id": "HqMArmFVkgSL",
        "colab_type": "code",
        "colab": {}
      },
      "source": [
        "vg2 = vidgames.filter(items=['Year', 'NA_EU_Sales'])\n",
        "vg2.head()"
      ],
      "execution_count": 0,
      "outputs": []
    },
    {
      "cell_type": "code",
      "metadata": {
        "id": "4Uj_wbU3kgUT",
        "colab_type": "code",
        "colab": {}
      },
      "source": [
        "vidgamesrev = vg2.loc[(vg2['Year'] == 1980) | (vg2['Year'] == 2015)]\n",
        "vidgamesrev"
      ],
      "execution_count": 0,
      "outputs": []
    },
    {
      "cell_type": "code",
      "metadata": {
        "id": "Cn-a_tyJkgOW",
        "colab_type": "code",
        "colab": {}
      },
      "source": [
        "vidgamesrev.loc[vidgamesrev['Year'] == 1980].sum(axis=0)\n"
      ],
      "execution_count": 0,
      "outputs": []
    },
    {
      "cell_type": "code",
      "metadata": {
        "id": "hJPFLlT5kr5E",
        "colab_type": "code",
        "colab": {}
      },
      "source": [
        "vidgamesrev.loc[vidgamesrev['Year'] == 2015].sum(axis=0)"
      ],
      "execution_count": 0,
      "outputs": []
    }
  ]
}